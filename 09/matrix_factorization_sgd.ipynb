{
 "cells": [
  {
   "cell_type": "code",
   "execution_count": 10,
   "metadata": {},
   "outputs": [],
   "source": [
    "import numpy as np\n",
    "\n",
    "R = np.array([\n",
    "    [4, np.NaN, np.NaN, 2, np.NaN],\n",
    "    [np.NaN, 5, np.NaN, 3, 1],\n",
    "    [np.NaN, np.NaN, 3, 4, 4],\n",
    "    [5, 2, 1, 2, np.NaN],\n",
    "])\n",
    "num_users, num_items= R.shape\n",
    "K = 3\n",
    "\n",
    "np.random.seed(1)\n",
    "P = np.random.normal(scale=1./K, size=(num_users, K))\n",
    "Q = np.random.normal(scale=1./K, size=(num_items, K))"
   ]
  },
  {
   "cell_type": "code",
   "execution_count": 11,
   "metadata": {},
   "outputs": [],
   "source": [
    "from sklearn.metrics import mean_squared_error\n",
    "\n",
    "def get_rmse(R, P, Q, non_zeros):\n",
    "    full_pred_matrix = np.dot(P, Q.T)\n",
    "\n",
    "    x_non_zero_ind = [non_zero[0] for non_zero in non_zeros]\n",
    "    y_non_zero_ind = [non_zero[1] for non_zero in non_zeros]\n",
    "    R_non_zeros = R[x_non_zero_ind, y_non_zero_ind]\n",
    "    full_pred_matrix_non_zeros = full_pred_matrix[x_non_zero_ind, y_non_zero_ind]\n",
    "    mse = mean_squared_error(R_non_zeros, full_pred_matrix_non_zeros)\n",
    "    rmse = np.sqrt(mse)\n",
    "\n",
    "    return rmse"
   ]
  },
  {
   "cell_type": "code",
   "execution_count": 12,
   "metadata": {},
   "outputs": [
    {
     "name": "stdout",
     "output_type": "stream",
     "text": [
      "step: 0, rmse: 3.2388050277987723\n",
      "step: 50, rmse: 0.4876723101369648\n",
      "step: 100, rmse: 0.1564340384819247\n",
      "step: 150, rmse: 0.07455141311978046\n",
      "step: 200, rmse: 0.04325226798579314\n",
      "step: 250, rmse: 0.029248328780878973\n",
      "step: 300, rmse: 0.022621116143829466\n",
      "step: 350, rmse: 0.019493636196525135\n",
      "step: 400, rmse: 0.018022719092132704\n",
      "step: 450, rmse: 0.01731968595344266\n",
      "step: 500, rmse: 0.016973657887570753\n",
      "step: 550, rmse: 0.016796804595895633\n",
      "step: 600, rmse: 0.01670132290188466\n",
      "step: 650, rmse: 0.01664473691247669\n",
      "step: 700, rmse: 0.016605910068210026\n",
      "step: 750, rmse: 0.016574200475705\n",
      "step: 800, rmse: 0.01654431582921597\n",
      "step: 850, rmse: 0.01651375177473524\n",
      "step: 900, rmse: 0.01648146573819501\n",
      "step: 950, rmse: 0.016447171683479155\n"
     ]
    }
   ],
   "source": [
    "non_zeros = [ (i, j, R[i, j]) for i in range(num_users) for j in range(num_items) if R[i, j] > 0 ]\n",
    "\n",
    "steps = 1000\n",
    "learning_rate= 0.01\n",
    "r_lambda = 0.01\n",
    "\n",
    "for step in range(steps):\n",
    "    for i, j, r in non_zeros:\n",
    "        eij = r - np.dot(P[i, :], Q[j, :].T)\n",
    "        P[i, :] = P[i, :] + learning_rate * (eij * Q[j, :] - r_lambda * P[i, :])\n",
    "        Q[j, :] = Q[j, :] + learning_rate * (eij * P[i, :] - r_lambda * Q[j, :])\n",
    "\n",
    "    rmse = get_rmse(R, P, Q, non_zeros)\n",
    "\n",
    "    if (step % 50) == 0:\n",
    "        print(f'step: {step}, rmse: {rmse}')"
   ]
  },
  {
   "cell_type": "code",
   "execution_count": 13,
   "metadata": {},
   "outputs": [
    {
     "name": "stdout",
     "output_type": "stream",
     "text": [
      "[[3.99062329 0.89653623 1.30649077 2.00210666 1.66340846]\n",
      " [6.69571106 4.97792757 0.97850229 2.98066034 1.0028451 ]\n",
      " [6.67689303 0.39076095 2.98728588 3.9769208  3.98610743]\n",
      " [4.96790858 2.00517956 1.00634763 2.01691675 1.14044567]]\n"
     ]
    }
   ],
   "source": [
    "pred_matrix = np.dot(P, Q.T)\n",
    "print(pred_matrix)"
   ]
  },
  {
   "cell_type": "code",
   "execution_count": null,
   "metadata": {},
   "outputs": [],
   "source": []
  }
 ],
 "metadata": {
  "interpreter": {
   "hash": "3067ead486e059ec00ffe7555bdb889e6e264a24dc711bf108106cc7baee8d5d"
  },
  "kernelspec": {
   "display_name": "Python 3.9.7 ('base')",
   "language": "python",
   "name": "python3"
  },
  "language_info": {
   "codemirror_mode": {
    "name": "ipython",
    "version": 3
   },
   "file_extension": ".py",
   "mimetype": "text/x-python",
   "name": "python",
   "nbconvert_exporter": "python",
   "pygments_lexer": "ipython3",
   "version": "3.9.7"
  },
  "orig_nbformat": 4
 },
 "nbformat": 4,
 "nbformat_minor": 2
}
